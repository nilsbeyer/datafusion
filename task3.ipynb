{
 "cells": [
  {
   "cell_type": "code",
   "execution_count": null,
   "metadata": {},
   "outputs": [],
   "source": [
    "from nuscenes.nuscenes import NuScenes\n",
    "from sklearn.cluster import KMeans\n",
    "import matplotlib.pyplot as plt\n",
    "import matplotlib.patches as patches\n",
    "import matplotlib as mpl\n",
    "import os\n",
    "import cv2\n",
    "import PIL\n",
    "import numpy as np\n",
    "from celluloid import Camera\n",
    "from pyquaternion import Quaternion\n",
    "from nuscenes.utils.data_classes import LidarPointCloud\n",
    "\n",
    "mpl.rc('figure', max_open_warning = 0)\n",
    "%matplotlib inline"
   ]
  },
  {
   "cell_type": "code",
   "execution_count": null,
   "metadata": {},
   "outputs": [],
   "source": [
    "nusc = NuScenes(version='v1.0-mini', dataroot='./data/nusc', verbose=True)"
   ]
  },
  {
   "cell_type": "code",
   "execution_count": null,
   "metadata": {},
   "outputs": [],
   "source": [
    "my_sample = nusc.sample[0]\n",
    "sample_data = nusc.get('sample_data', my_sample['data']['LIDAR_TOP'])\n",
    "pcl_path = sample_data['filename']\n",
    "nusc.render_sample_data(sample_data['token'])\n",
    "pc =LidarPointCloud.from_file(os.path.join('./data/nusc',pcl_path))\n",
    "color = pc.points[3] / np.max(pc.points[3])\n",
    "plt.scatter(pc.points[0], pc.points[1], c=color, alpha=0.2, s=0.3)\n",
    "\n",
    "# plt.savefig(\"sample.jpg\")\n",
    "\n",
    "# image = cv2.imread(\"sample.jpg\")\n",
    "# # convert the image into RGB format\n",
    "# image = cv2.cvtColor(image, cv2.COLOR_BGR2RGB)\n",
    "# # reshape the image to a 2D array of pixels and 3 color values (RGB)\n",
    "# pixel_values = image.reshape((-1, 3))\n",
    "\n",
    "# # pixel_values = np.delete(pc.points, 2, 0).T\n",
    "# # print(test.shape)\n",
    "# # convert to float\n",
    "# pixel_values = np.float32(pixel_values)\n",
    "\n",
    "# criteria = (cv2.TERM_CRITERIA_EPS + cv2.TERM_CRITERIA_MAX_ITER, 100, 1)\n",
    "# # number of clusters (K)\n",
    "# k = 12\n",
    "# _, labels, (centers) = cv2.kmeans(pixel_values, k, None, criteria, 10, cv2.KMEANS_RANDOM_CENTERS)\n",
    "# # convert back to 8 bit values\n",
    "# centers = np.uint8(centers)\n",
    "\n",
    "# # flatten the labels array\n",
    "# labels = labels.flatten()\n",
    "# # convert all pixels to the color of the centroids\n",
    "# segmented_image = centers[labels.flatten()]\n",
    "# # reshape back to the original image dimension\n",
    "# segmented_image = segmented_image.reshape(image.shape)\n",
    "# # show the image\n",
    "# plt.figure(figsize = (16,8))\n",
    "# plt.imshow(segmented_image)"
   ]
  },
  {
   "cell_type": "code",
   "execution_count": null,
   "metadata": {},
   "outputs": [],
   "source": [
    "X = pc.points[0:2].T\n",
    "kmeans = KMeans(n_clusters=12)\n",
    "kmeans.fit(X)\n",
    "y_kmeans = kmeans.predict(X)\n",
    "plt.scatter(X[:, 0], X[:, 1], c=y_kmeans, s=0.2, cmap='viridis')\n",
    "centers = kmeans.cluster_centers_\n",
    "plt.scatter(centers[:, 0], centers[:, 1], c='black', s=200, alpha=0.5);"
   ]
  },
  {
   "cell_type": "code",
   "execution_count": null,
   "metadata": {},
   "outputs": [],
   "source": []
  }
 ],
 "metadata": {
  "kernelspec": {
   "display_name": "Python 3",
   "language": "python",
   "name": "python3"
  },
  "language_info": {
   "codemirror_mode": {
    "name": "ipython",
    "version": 3
   },
   "file_extension": ".py",
   "mimetype": "text/x-python",
   "name": "python",
   "nbconvert_exporter": "python",
   "pygments_lexer": "ipython3",
   "version": "3.8.0"
  }
 },
 "nbformat": 4,
 "nbformat_minor": 4
}
