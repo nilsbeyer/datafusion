{
 "cells": [
  {
   "cell_type": "code",
   "execution_count": 1,
   "metadata": {},
   "outputs": [],
   "source": [
    "%matplotlib inline\n",
    "\n",
    "import sys\n",
    "\n",
    "import matplotlib.pyplot as plt\n",
    "\n",
    "import os\n",
    "\n",
    "import matplotlib as mpl\n",
    "\n",
    "import numpy as np\n",
    "\n",
    "from PIL import Image\n",
    "\n",
    "from pyquaternion import Quaternion"
   ]
  },
  {
   "cell_type": "code",
   "execution_count": 2,
   "metadata": {},
   "outputs": [],
   "source": [
    "sys.path.append(\"/home/nils/data_fusion/nuscenes-devkit/python-sdk\")"
   ]
  },
  {
   "cell_type": "code",
   "execution_count": 3,
   "metadata": {},
   "outputs": [
    {
     "name": "stdout",
     "output_type": "stream",
     "text": [
      "======\n",
      "Loading NuScenes tables for version v1.0-mini...\n",
      "23 category,\n",
      "8 attribute,\n",
      "4 visibility,\n",
      "911 instance,\n",
      "12 sensor,\n",
      "120 calibrated_sensor,\n",
      "31206 ego_pose,\n",
      "8 log,\n",
      "10 scene,\n",
      "404 sample,\n",
      "31206 sample_data,\n",
      "18538 sample_annotation,\n",
      "4 map,\n",
      "Done loading in 1.8 seconds.\n",
      "======\n",
      "Reverse indexing ...\n",
      "Done reverse indexing in 0.3 seconds.\n",
      "======\n"
     ]
    }
   ],
   "source": [
    "from nuscenes.nuscenes import NuScenes\n",
    "\n",
    "nusc = NuScenes(version='v1.0-mini', dataroot='nuscenes', verbose=True)"
   ]
  },
  {
   "cell_type": "code",
   "execution_count": 4,
   "metadata": {},
   "outputs": [],
   "source": [
    "from nuscenes.utils.data_classes import LidarPointCloud\n",
    "\n",
    "from nuscenes.utils.geometry_utils import view_points\n"
   ]
  },
  {
   "cell_type": "markdown",
   "metadata": {},
   "source": [
    "# Task 1"
   ]
  },
  {
   "cell_type": "markdown",
   "metadata": {},
   "source": [
    "## Picking a random sample"
   ]
  },
  {
   "cell_type": "code",
   "execution_count": 5,
   "metadata": {},
   "outputs": [],
   "source": [
    "my_sample = nusc.sample[10]\n",
    "\n",
    "my_scene_token =my_sample['scene_token']\n",
    "\n",
    "my_scene = nusc.get('scene', my_scene_token)"
   ]
  },
  {
   "cell_type": "code",
   "execution_count": 6,
   "metadata": {},
   "outputs": [],
   "source": [
    "first_sample_token = my_scene['first_sample_token']\n",
    "\n",
    "first_sample_from_scene = nusc.get('sample', first_sample_token)"
   ]
  },
  {
   "cell_type": "markdown",
   "metadata": {},
   "source": [
    "## Picking the van in front by hand"
   ]
  },
  {
   "cell_type": "code",
   "execution_count": 7,
   "metadata": {},
   "outputs": [],
   "source": [
    "vehicle_annotation_tokens = []\n",
    "for i in range(len(first_sample_from_scene['anns'])):\n",
    "    first_annotation_token_of_first_sample = first_sample_from_scene['anns'][i]\n",
    "    if nusc.get('sample_annotation', first_annotation_token_of_first_sample)['category_name'] == 'vehicle.car':\n",
    "        vehicle_annotation_tokens.append(first_annotation_token_of_first_sample)\n",
    "\n",
    "# annotation of first frame\n",
    "van_annotation_token = vehicle_annotation_tokens[7]"
   ]
  },
  {
   "cell_type": "code",
   "execution_count": 8,
   "metadata": {},
   "outputs": [],
   "source": [
    "def get_lidar_pointcloud(sample_token):\n",
    "    sample_record = nusc.get('sample', sample_token)\n",
    "    pointsensor_channel = 'LIDAR_TOP'\n",
    "    pointsensor_token = sample_record['data'][pointsensor_channel]\n",
    "    pointsensor = nusc.get('sample_data', pointsensor_token)\n",
    "    pcl_path = nusc.get('sample_data', pointsensor_token)['filename']\n",
    "    pc =LidarPointCloud.from_file(os.path.join('nuscenes',pcl_path))\n",
    "    return pointsensor_token, pc.points"
   ]
  },
  {
   "cell_type": "code",
   "execution_count": 9,
   "metadata": {},
   "outputs": [],
   "source": [
    "def rotate_pointcloud(cloud, quaternion):\n",
    "    def rot(an_array):\n",
    "        return quaternion.rotate(an_array)\n",
    "    return np.array(list(map(rot, cloud)))"
   ]
  },
  {
   "cell_type": "code",
   "execution_count": 10,
   "metadata": {},
   "outputs": [],
   "source": [
    "def visualize_absolute(ax, absolute_points, ego_pose, van_translation, relativeboxvectors):\n",
    "    #plt.axis('equal')\n",
    "    axes = plt.gca()\n",
    "    #axes.set_xlim([xmin,xmax])\n",
    "    #axes.set_ylim([ymin,ymax])\n",
    "    #ax.set(xlim=(300, 500), ylim=(1100, 1300))\n",
    "    return ax.scatter(absolute_points[0], absolute_points[1], c='red', s=0.3), ax.scatter(ego_pose['translation'][0], ego_pose['translation'][1]),ax.plot([van_translation[0] + relativeboxvector[0] for relativeboxvector in relativeboxvectors], [van_translation[1] + relativeboxvector[1] for relativeboxvector in relativeboxvectors])[0]"
   ]
  },
  {
   "cell_type": "code",
   "execution_count": 11,
   "metadata": {},
   "outputs": [],
   "source": [
    "def create_bounding_box(annotation_token):\n",
    "    '''\n",
    "    creates bounding box used for plotting\n",
    "    '''\n",
    "    van_annotation = nusc.get('sample_annotation', annotation_token)\n",
    "    relativeboxvectors = [(van_annotation['size'][1]/2,van_annotation['size'][0]/2, 0),\n",
    "                         (-van_annotation['size'][1]/2,van_annotation['size'][0]/2, 0),\n",
    "                         (-van_annotation['size'][1]/2,-van_annotation['size'][0]/2, 0),\n",
    "                         (van_annotation['size'][1]/2,-van_annotation['size'][0]/2, 0),\n",
    "                         (van_annotation['size'][1]/2,van_annotation['size'][0]/2, 0)]\n",
    "    return np.array(relativeboxvectors), van_annotation['translation']"
   ]
  },
  {
   "cell_type": "code",
   "execution_count": 12,
   "metadata": {},
   "outputs": [],
   "source": [
    "#create list of annotation tokens\n",
    "current_van_annotation_token = van_annotation_token\n",
    "annotation_tokens = []\n",
    "while current_van_annotation_token != '':\n",
    "    annotation_tokens.append(current_van_annotation_token)\n",
    "    #next annotaton token\n",
    "    current_van_annotation_token = nusc.get('sample_annotation', current_van_annotation_token)['next']"
   ]
  },
  {
   "cell_type": "markdown",
   "metadata": {},
   "source": [
    "## Create Video"
   ]
  },
  {
   "cell_type": "code",
   "execution_count": 13,
   "metadata": {},
   "outputs": [],
   "source": [
    "# same as last time. Now we just rotate back."
   ]
  },
  {
   "cell_type": "code",
   "execution_count": 14,
   "metadata": {},
   "outputs": [
    {
     "data": {
      "text/plain": [
       "(393.6603981850444, 432.9854006128025, 1099.0106057555454, 1184.7894160060794)"
      ]
     },
     "execution_count": 14,
     "metadata": {},
     "output_type": "execute_result"
    },
    {
     "data": {
      "image/png": "[encoded data removed]",
      "text/plain": [
       "<Figure size 432x288 with 1 Axes>"
      ]
     },
     "metadata": {
      "needs_background": "light"
     },
     "output_type": "display_data"
    }
   ],
   "source": [
    "ims = []\n",
    "fig = plt.figure()\n",
    "ax = fig.add_subplot(111)  # fig and axes created once\n",
    "frontimages = []\n",
    "raw_measurements = []\n",
    "timestamps = []\n",
    "annotated_positions = []\n",
    "# Display points and bounding box in global coordinates over whole scene\n",
    "for i,current_van_annotation_token in enumerate(annotation_tokens):\n",
    "\n",
    "    # filter out points outside bounding box\n",
    "\n",
    "\n",
    "    ## Grab the data\n",
    "\n",
    "    van_annotation = nusc.get('sample_annotation', current_van_annotation_token)\n",
    "\n",
    "    #get respective frame token\n",
    "    sample_token = van_annotation['sample_token']\n",
    "\n",
    "    timestamps.append(nusc.get('sample', sample_token)['timestamp'])\n",
    "\n",
    "\n",
    "    pointsensor_token, points = get_lidar_pointcloud(sample_token)\n",
    "    calibrated_sensor_token = nusc.get('sample_data', pointsensor_token)['calibrated_sensor_token']\n",
    "    calibrated_sensor = nusc.get('calibrated_sensor', calibrated_sensor_token)\n",
    "    ego_pose = nusc.get('ego_pose', nusc.get('sample_data', pointsensor_token)['ego_pose_token'])\n",
    "\n",
    "    ## translate points to global reference frame\n",
    "\n",
    "    ### Rotate points around sensor and ego rotation\n",
    "\n",
    "    pointsensor_quaternion = Quaternion(calibrated_sensor['rotation'])\n",
    "    ego_quaternion = Quaternion(ego_pose['rotation'])\n",
    "\n",
    "    sensor_rotated_points = np.dot(pointsensor_quaternion.rotation_matrix, points[:3,:])\n",
    "    rotated_points = np.dot(ego_quaternion.rotation_matrix, sensor_rotated_points)\n",
    "\n",
    "    # use broadcasting to add translation to x and y dimension\n",
    "    absolute_points = rotated_points+np.array(ego_pose['translation'][:3]).reshape(-1,1)\n",
    "\n",
    "\n",
    "    ### rotate points by inverse bounding box rotation (translation to its reference frame unnecessary for only filtering)\n",
    "    reverse_van_quaternion = Quaternion(w=-1*van_annotation['rotation'][0], x=van_annotation['rotation'][1], y=van_annotation['rotation'][2], z=van_annotation['rotation'][3])\n",
    "    points_bounding_rotation = np.dot(reverse_van_quaternion.rotation_matrix, absolute_points)\n",
    "\n",
    "    #new stuff\n",
    "    relativeboxvectors, position = create_bounding_box(current_van_annotation_token)\n",
    "\n",
    "    annotated_positions.append(position)\n",
    "    rotated_box = relativeboxvectors+reverse_van_quaternion.rotate(position)\n",
    "\n",
    "    x_max = rotated_box[:,0].max()\n",
    "    x_min = rotated_box[:,0].min()\n",
    "\n",
    "    y_max = rotated_box[:,1].max()\n",
    "    y_min = rotated_box[:,1].min()\n",
    "\n",
    "    ## Remove points that are outside the bounding box\n",
    "    mask = np.ones(points_bounding_rotation.shape[1], dtype=bool)\n",
    "\n",
    "    mask = np.logical_and(mask, points_bounding_rotation[0] > x_min)\n",
    "    mask = np.logical_and(mask, points_bounding_rotation[0] < x_max)\n",
    "\n",
    "    mask = np.logical_and(mask, points_bounding_rotation[1] > y_min)\n",
    "    mask = np.logical_and(mask, points_bounding_rotation[1] < y_max)\n",
    "\n",
    "    points_filtered_rotated = points_bounding_rotation[:,mask]\n",
    "\n",
    "    ### rotate points back\n",
    "\n",
    "    van_quaternion = Quaternion(van_annotation['rotation'])\n",
    "    points_filtered_absolute = np.dot(van_quaternion.rotation_matrix, points_filtered_rotated)\n",
    "    # append list of plots to movie\n",
    "    rotated_relativeboxvectors = rotate_pointcloud(relativeboxvectors, van_quaternion)\n",
    "    plotlist = visualize_absolute(ax, points_filtered_absolute, ego_pose, van_annotation['translation'], rotated_relativeboxvectors)\n",
    "    raw_measurements.append(points_filtered_absolute)\n",
    "    ims.append(plotlist)     \n",
    "\n",
    "ax.axis('equal')\n"
   ]
  },
  {
   "cell_type": "markdown",
   "metadata": {},
   "source": [
    "## Create Movie"
   ]
  },
  {
   "cell_type": "code",
   "execution_count": 15,
   "metadata": {},
   "outputs": [],
   "source": [
    "ani = mpl.animation.ArtistAnimation(fig, ims, repeat=False)\n",
    "ani.save('filtered_im.gif', writer='pillow')"
   ]
  },
  {
   "cell_type": "markdown",
   "metadata": {},
   "source": [
    "# Task 2"
   ]
  },
  {
   "cell_type": "code",
   "execution_count": 16,
   "metadata": {},
   "outputs": [],
   "source": [
    "def prediction_step(state_vector, covariance_matrix, sigma_v, t):\n",
    "    F = np.array(((1,0,t,0),(0,1,0,t),(0,0,1,0),(0,0,0,1)))\n",
    "    transition_error = np.array((0.5*t**2, 0.5*t**2, t, t))\n",
    "    Q = sigma_v**2*np.dot(transition_error.reshape(-1,1),transition_error.reshape(-1,1).T)\n",
    "    \n",
    "    state_vector_next = np.dot(F, state_vector)\n",
    "    C_next = np.dot(np.dot(F, covariance_matrix), F.T) + Q\n",
    "    return state_vector_next, C_next"
   ]
  },
  {
   "cell_type": "markdown",
   "metadata": {},
   "source": [
    "## b)"
   ]
  },
  {
   "cell_type": "code",
   "execution_count": 17,
   "metadata": {},
   "outputs": [],
   "source": [
    "def measuring_step(state_vector, C, measurement, R):\n",
    "    H = np.array(((1, 0, 0, 0), (0,1,0,0)))\n",
    "    S = np.dot(np.dot(H,C), H.T) + R\n",
    "    K = np.dot(np.dot(C, H.T), np.linalg.inv(S))\n",
    "    C_next = C - np.dot(np.dot(K, S),K.T)\n",
    "    state_vector_next = state_vector + np.dot(K,np.array(measurement) - np.dot(H, state_vector))\n",
    "    return state_vector_next, C_next"
   ]
  },
  {
   "cell_type": "markdown",
   "metadata": {},
   "source": [
    "## c)"
   ]
  },
  {
   "cell_type": "code",
   "execution_count": 18,
   "metadata": {},
   "outputs": [
    {
     "name": "stderr",
     "output_type": "stream",
     "text": [
      "/home/nils/anaconda3/envs/datafusion/lib/python3.7/site-packages/ipykernel/__main__.py:4: RuntimeWarning: Mean of empty slice.\n",
      "/home/nils/anaconda3/envs/datafusion/lib/python3.7/site-packages/numpy/core/_methods.py:170: RuntimeWarning: invalid value encountered in double_scalars\n",
      "  ret = ret.dtype.type(ret / rcount)\n",
      "/home/nils/anaconda3/envs/datafusion/lib/python3.7/site-packages/ipykernel/__main__.py:5: RuntimeWarning: Mean of empty slice.\n"
     ]
    }
   ],
   "source": [
    "measurements = []\n",
    "t_last = timestamps[0]\n",
    "for r, t in zip(raw_measurements, timestamps):\n",
    "    x_mean = r[0].mean()\n",
    "    y_mean = r[1].mean()\n",
    "    measurements.append((x_mean, y_mean, (t-t_last)/1000000))\n",
    "    t_last = t\n",
    "# throw first 11 away because some are empty\n",
    "cleaned_measurements = measurements[11:]"
   ]
  },
  {
   "cell_type": "code",
   "execution_count": 42,
   "metadata": {},
   "outputs": [
    {
     "data": {
      "text/plain": [
       "[(397.9799414014502, 1121.3696933701106, 0.49932),\n",
       " (398.1822837697118, 1121.5996405586416, 0.499858),\n",
       " (400.1408743754392, 1118.2281596475632, 0.499889),\n",
       " (399.7442237465409, 1117.4150647485553, 0.550204),\n",
       " (400.6855546645507, 1116.6985981805838, 0.500986),\n",
       " (401.59406411675064, 1115.2073550887173, 0.500404),\n",
       " (402.68479864748286, 1113.6170150574355, 0.501017),\n",
       " (404.29664683725724, 1113.2180530143653, 0.500397),\n",
       " (405.7249703594426, 1111.9087418495185, 0.499323),\n",
       " (406.9933407701191, 1111.0609878617527, 0.499318),\n",
       " (408.1853300917355, 1110.7266699578513, 0.499897),\n",
       " (409.4179944759696, 1109.509356813025, 0.449547),\n",
       " (410.8933534334881, 1109.020227845097, 0.49989),\n",
       " (411.9681381128321, 1108.4380200144597, 0.550177),\n",
       " (413.20814758697486, 1107.9015428970408, 0.500447),\n",
       " (414.79636265043564, 1107.1850105566423, 0.599385),\n",
       " (416.37414193208485, 1106.5156059247201, 0.499875),\n",
       " (417.98792858036757, 1105.828671554556, 0.500435),\n",
       " (420.03777227254824, 1105.215275256057, 0.39981),\n",
       " (419.7649119881311, 1105.1609549517223, 0.500407),\n",
       " (421.21580626959286, 1104.6370358993083, 0.499899),\n",
       " (421.98797038843276, 1104.5804260531722, 0.499886),\n",
       " (423.2199805265789, 1104.5380691237995, 0.500433),\n",
       " (424.5247099178959, 1104.5319578509811, 0.499843),\n",
       " (425.24700868009097, 1104.6653380299847, 0.499345),\n",
       " (425.98331685810933, 1105.0089759865546, 0.499872),\n",
       " (427.04305940424115, 1105.4204843582177, 0.599937),\n",
       " (427.7425455298018, 1105.9804147956797, 0.500432)]"
      ]
     },
     "execution_count": 42,
     "metadata": {},
     "output_type": "execute_result"
    }
   ],
   "source": [
    "cleaned_measurements"
   ]
  },
  {
   "cell_type": "code",
   "execution_count": 19,
   "metadata": {},
   "outputs": [],
   "source": [
    "def run_filter(C,sigma_v,R):\n",
    "    initial_position = np.array(cleaned_measurements[1][:2])\n",
    "    initial_velocity = (np.array(cleaned_measurements[1][:2]) - np.array(cleaned_measurements[0][:2]))/cleaned_measurements[0][2]\n",
    "    state_vector = np.append(initial_position,initial_velocity)\n",
    "\n",
    "    estimated_positions = []\n",
    "    for i,m in enumerate(cleaned_measurements):\n",
    "        state_vector, C = prediction_step(state_vector, C, sigma_v, t = m[2])\n",
    "        estimated_positions.append(state_vector)\n",
    "        state_vector, C = measuring_step(state_vector, C, m[:2], R)\n",
    "    return estimated_positions\n"
   ]
  },
  {
   "cell_type": "code",
   "execution_count": 33,
   "metadata": {},
   "outputs": [],
   "source": [
    "def squared_distance(v1, v2):\n",
    "    assert len(v1) == len(v2), \"vectors have different lengths\"\n",
    "    summe = 0\n",
    "    for i in range(len(v1)):\n",
    "        summe += np.sqrt((v1[i][0]-v2[i][0])**2 + (v1[i][1]-v2[i][1])**2)\n",
    "    return summe/len(v1)"
   ]
  },
  {
   "cell_type": "code",
   "execution_count": 52,
   "metadata": {},
   "outputs": [
    {
     "name": "stdout",
     "output_type": "stream",
     "text": [
      "error:1.7617097043356336\n"
     ]
    },
    {
     "data": {
      "text/plain": [
       "(396.3536528750957, 432.13200045489583, 1101.0113836873554, 1122.8209307976401)"
      ]
     },
     "execution_count": 52,
     "metadata": {},
     "output_type": "execute_result"
    },
    {
     "data": {
      "image/png": "[encoded data removed]",
      "text/plain": [
       "<Figure size 432x288 with 1 Axes>"
      ]
     },
     "metadata": {
      "needs_background": "light"
     },
     "output_type": "display_data"
    }
   ],
   "source": [
    "C = 1*np.eye(4)\n",
    "sigma_v= 0.1\n",
    "r = 0.5\n",
    "R = np.array(((r,0),(0,r)))\n",
    "\n",
    "estimated_positions = run_filter(C,sigma_v,R)\n",
    "\n",
    "print(f'error:{squared_distance(estimated_positions, cleaned_measurements)}')\n",
    "\n",
    "fig = plt.figure()\n",
    "ax = fig.add_subplot(111)\n",
    "plt.plot([pos[0] for pos in estimated_positions], [pos[1] for pos in estimated_positions])\n",
    "plt.plot([pos[0] for pos in cleaned_measurements], [pos[1] for pos in cleaned_measurements])\n",
    "ax.axis('equal')"
   ]
  },
  {
   "cell_type": "code",
   "execution_count": null,
   "metadata": {},
   "outputs": [],
   "source": []
  },
  {
   "cell_type": "code",
   "execution_count": null,
   "metadata": {},
   "outputs": [],
   "source": []
  }
 ],
 "metadata": {
  "kernelspec": {
   "display_name": "Python 3",
   "language": "python",
   "name": "python3"
  },
  "language_info": {
   "codemirror_mode": {
    "name": "ipython",
    "version": 3
   },
   "file_extension": ".py",
   "mimetype": "text/x-python",
   "name": "python",
   "nbconvert_exporter": "python",
   "pygments_lexer": "ipython3",
   "version": "3.7.7"
  }
 },
 "nbformat": 4,
 "nbformat_minor": 4
}
