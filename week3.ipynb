{
 "cells": [
  {
   "cell_type": "code",
   "execution_count": 1,
   "metadata": {},
   "outputs": [],
   "source": [
    "%matplotlib inline\n",
    "\n",
    "import sys\n",
    "\n",
    "import matplotlib.pyplot as plt\n",
    "\n",
    "import os\n",
    "\n",
    "import matplotlib as mpl\n",
    "\n",
    "import numpy as np\n",
    "\n",
    "from PIL import Image\n",
    "\n",
    "from pyquaternion import Quaternion\n",
    "\n",
    "import scipy"
   ]
  },
  {
   "cell_type": "code",
   "execution_count": 2,
   "metadata": {},
   "outputs": [],
   "source": [
    "import sklearn"
   ]
  },
  {
   "cell_type": "code",
   "execution_count": 3,
   "metadata": {},
   "outputs": [],
   "source": [
    "from scipy.optimize import linear_sum_assignment"
   ]
  },
  {
   "cell_type": "code",
   "execution_count": 4,
   "metadata": {},
   "outputs": [],
   "source": [
    "sys.path.append(\"/home/nils/data_fusion/nuscenes-devkit/python-sdk\")"
   ]
  },
  {
   "cell_type": "code",
   "execution_count": 5,
   "metadata": {},
   "outputs": [
    {
     "name": "stdout",
     "output_type": "stream",
     "text": [
      "======\n",
      "Loading NuScenes tables for version v1.0-mini...\n",
      "23 category,\n",
      "8 attribute,\n",
      "4 visibility,\n",
      "911 instance,\n",
      "12 sensor,\n",
      "120 calibrated_sensor,\n",
      "31206 ego_pose,\n",
      "8 log,\n",
      "10 scene,\n",
      "404 sample,\n",
      "31206 sample_data,\n",
      "18538 sample_annotation,\n",
      "4 map,\n",
      "Done loading in 1.3 seconds.\n",
      "======\n",
      "Reverse indexing ...\n",
      "Done reverse indexing in 0.2 seconds.\n",
      "======\n"
     ]
    }
   ],
   "source": [
    "from nuscenes.nuscenes import NuScenes\n",
    "\n",
    "nusc = NuScenes(version='v1.0-mini', dataroot='nuscenes', verbose=True)"
   ]
  },
  {
   "cell_type": "code",
   "execution_count": 6,
   "metadata": {},
   "outputs": [],
   "source": [
    "from nuscenes.utils.data_classes import LidarPointCloud\n",
    "\n",
    "from nuscenes.utils.geometry_utils import view_points\n"
   ]
  },
  {
   "cell_type": "code",
   "execution_count": 7,
   "metadata": {},
   "outputs": [],
   "source": [
    "import sklearn.cluster"
   ]
  },
  {
   "cell_type": "markdown",
   "metadata": {},
   "source": [
    "# Task 1"
   ]
  },
  {
   "cell_type": "markdown",
   "metadata": {},
   "source": [
    "## Picking a random sample"
   ]
  },
  {
   "cell_type": "code",
   "execution_count": 8,
   "metadata": {},
   "outputs": [],
   "source": [
    "def rotate_pointcloud(cloud, quaternion):\n",
    "    def rot(an_array):\n",
    "        return quaternion.rotate(an_array)\n",
    "    return np.array(list(map(rot, cloud)))"
   ]
  },
  {
   "cell_type": "code",
   "execution_count": 9,
   "metadata": {},
   "outputs": [],
   "source": [
    "def create_bounding_box(annotation_token):\n",
    "    '''\n",
    "    creates bounding box used for plotting\n",
    "    '''\n",
    "    van_annotation = nusc.get('sample_annotation', annotation_token)\n",
    "    relativeboxvectors = [(van_annotation['size'][1]/2,van_annotation['size'][0]/2, 0),\n",
    "                         (-van_annotation['size'][1]/2,van_annotation['size'][0]/2, 0),\n",
    "                         (-van_annotation['size'][1]/2,-van_annotation['size'][0]/2, 0),\n",
    "                         (van_annotation['size'][1]/2,-van_annotation['size'][0]/2, 0),\n",
    "                         (van_annotation['size'][1]/2,van_annotation['size'][0]/2, 0)]\n",
    "    return np.array(relativeboxvectors), van_annotation['translation']"
   ]
  },
  {
   "cell_type": "code",
   "execution_count": 10,
   "metadata": {},
   "outputs": [],
   "source": [
    "my_sample = nusc.sample[10]\n",
    "my_scene_token =my_sample['scene_token']\n",
    "my_scene = nusc.get('scene', my_scene_token)\n",
    "first_sample_token = my_scene['first_sample_token']"
   ]
  },
  {
   "cell_type": "code",
   "execution_count": 11,
   "metadata": {},
   "outputs": [],
   "source": [
    "#create list of sample tokens (of whole scene)\n",
    "current_sample_token = first_sample_token\n",
    "sample_tokens = []\n",
    "while current_sample_token != '':\n",
    "    sample_tokens.append(current_sample_token)\n",
    "    #next annotaton token\n",
    "    current_sample_token = nusc.get('sample', current_sample_token)['next']"
   ]
  },
  {
   "cell_type": "code",
   "execution_count": 12,
   "metadata": {},
   "outputs": [],
   "source": [
    "def remove_clutter(sample_token):\n",
    "    '''\n",
    "    returns all points inside vehicle bounding boxes\n",
    "    and the number of vehicle bounding boxes that actually contain measurements\n",
    "    '''\n",
    "    current_sample_from_scene = nusc.get('sample', sample_token)\n",
    "\n",
    "    pointsensor_token = current_sample_from_scene['data']['LIDAR_TOP']\n",
    "    pcl_path = nusc.get('sample_data', pointsensor_token)['filename']\n",
    "    pc =LidarPointCloud.from_file(os.path.join('nuscenes',pcl_path))\n",
    "    points = pc.points\n",
    "    \n",
    "    ego_pose = nusc.get('ego_pose', nusc.get('sample_data', pointsensor_token)['ego_pose_token'])\n",
    "    \n",
    "\n",
    "    calibrated_sensor_token = nusc.get('sample_data', pointsensor_token)['calibrated_sensor_token']\n",
    "    calibrated_sensor = nusc.get('calibrated_sensor', calibrated_sensor_token)\n",
    "    pointsensor_quaternion = Quaternion(calibrated_sensor['rotation'])\n",
    "    ego_quaternion = Quaternion(ego_pose['rotation'])\n",
    "\n",
    "    sensor_rotated_points = np.dot(pointsensor_quaternion.rotation_matrix, points[:3,:])\n",
    "    rotated_points = np.dot(ego_quaternion.rotation_matrix, sensor_rotated_points)\n",
    "\n",
    "    # use broadcasting to add translation to x and y dimension\n",
    "    absolute_points = rotated_points+np.array(ego_pose['translation'][:3]).reshape(-1,1)\n",
    "    \n",
    "    all_annotation_points = np.empty([2, 0])\n",
    "    vehicle_counter = 0\n",
    "    for i in range(len(current_sample_from_scene['anns'])):\n",
    "\n",
    "        current_annotation_token = current_sample_from_scene['anns'][i]\n",
    "        current_annotation = nusc.get('sample_annotation', current_annotation_token)\n",
    "        if current_annotation['category_name'][:7] != 'vehicle':\n",
    "            continue\n",
    "\n",
    "        #print(f'progress: {i/len(current_sample_from_scene[\"anns\"])}')\n",
    "        ### rotate points by inverse bounding box rotation (translation to its reference frame unnecessary for only filtering)\n",
    "        reverse_annotation_quaternion = Quaternion(w=-1*current_annotation['rotation'][0], x=current_annotation['rotation'][1], y=current_annotation['rotation'][2], z=current_annotation['rotation'][3])\n",
    "        points_bounding_rotation = np.dot(reverse_annotation_quaternion.rotation_matrix, absolute_points)\n",
    "\n",
    "        #new stuff\n",
    "        relativeboxvectors, position = create_bounding_box(current_annotation_token)\n",
    "\n",
    "        rotated_box = relativeboxvectors+reverse_annotation_quaternion.rotate(position)\n",
    "\n",
    "        x_max = rotated_box[:,0].max()\n",
    "        x_min = rotated_box[:,0].min()\n",
    "\n",
    "        y_max = rotated_box[:,1].max()\n",
    "        y_min = rotated_box[:,1].min()\n",
    "\n",
    "        ## Remove points that are outside the bounding box\n",
    "        mask = np.ones(points_bounding_rotation.shape[1], dtype=bool)\n",
    "\n",
    "        mask = np.logical_and(mask, points_bounding_rotation[0] > x_min)\n",
    "        mask = np.logical_and(mask, points_bounding_rotation[0] < x_max)\n",
    "        mask = np.logical_and(mask, points_bounding_rotation[1] > y_min)\n",
    "        mask = np.logical_and(mask, points_bounding_rotation[1] < y_max)\n",
    "\n",
    "        points_filtered_rotated = points_bounding_rotation[:,mask]\n",
    "        if len(points_filtered_rotated[0])>0:\n",
    "            vehicle_counter += 1\n",
    "        ### rotate points back\n",
    "        annotation_quaternion = Quaternion(current_annotation['rotation'])\n",
    "        points_filtered_absolute = np.dot(annotation_quaternion.rotation_matrix, points_filtered_rotated)\n",
    "\n",
    "        all_annotation_points = np.concatenate((all_annotation_points,points_filtered_absolute[:2]),axis=1)\n",
    "    return all_annotation_points, vehicle_counter"
   ]
  },
  {
   "cell_type": "code",
   "execution_count": 13,
   "metadata": {},
   "outputs": [
    {
     "data": {
      "image/png": "[encoded data removed]",
      "text/plain": [
       "<Figure size 432x288 with 1 Axes>"
      ]
     },
     "metadata": {
      "needs_background": "light"
     },
     "output_type": "display_data"
    }
   ],
   "source": [
    "# go over whole scene and save cluster means for further calculations\n",
    "ims = []\n",
    "fig = plt.figure()\n",
    "ax = fig.add_subplot(111)  # fig and axes created once\n",
    "mean_positions_whole_scene = []\n",
    "annotation_points_whole_scene = []\n",
    "#clustering by kmeans\n",
    "colors_whole_scene = []\n",
    "# number of vehicles to cluster(only matters for kmeans)\n",
    "vehicle_counters_whole_scene = []\n",
    "mean_positions_whole_scene_dbscan = []\n",
    "colors_dbscan = []\n",
    "# go over all samples of our scene\n",
    "\n",
    "for current_sample_token in sample_tokens:\n",
    "    # remove clutter\n",
    "    all_annotation_points, vehicle_counter = remove_clutter(current_sample_token)\n",
    "    annotation_points_whole_scene.append(all_annotation_points)\n",
    "    vehicle_counters_whole_scene.append(vehicle_counter)\n",
    "    \n",
    "    # apply clustering algorithms\n",
    "    ## k_means\n",
    "    clustered = sklearn.cluster.k_means(np.swapaxes(all_annotation_points,0,1), vehicle_counter)\n",
    "    mean_positions = clustered[0]\n",
    "    colors = clustered[1]\n",
    "    colors_whole_scene.append(colors)\n",
    "    mean_positions_whole_scene.append(mean_positions)\n",
    "    \n",
    "    ## dbscan\n",
    "    db = sklearn.cluster.DBSCAN(eps=1.5, min_samples=1).fit(np.swapaxes(all_annotation_points,0,1))\n",
    "\n",
    "    dbscan_clustered = [[] for x in range((db.labels_).max()+1)]\n",
    "\n",
    "    for i,point in enumerate(db.labels_):\n",
    "        dbscan_clustered[point].append(all_annotation_points[:,i])\n",
    "    mean_positions = []\n",
    "    for cluster in dbscan_clustered:\n",
    "        means = np.array(cluster).mean(axis=0)\n",
    "        mean_positions.append(means)\n",
    "    mean_positions_whole_scene_dbscan.append(mean_positions)\n",
    "    colors_dbscan.append(db.labels_)\n",
    "    \n",
    "    # add plot of mean positions to movie\n",
    "    ims.append(plt.scatter(np.swapaxes(mean_positions,0,1)[0],np.swapaxes(mean_positions,0,1)[1], s=2,).findobj())\n",
    "ax.axis('equal')\n",
    "ani = mpl.animation.ArtistAnimation(fig, ims, repeat=False)\n",
    "ani.save('annotations_im.gif', writer='pillow')"
   ]
  },
  {
   "cell_type": "code",
   "execution_count": 14,
   "metadata": {},
   "outputs": [],
   "source": [
    "def distance(p1, p2):\n",
    "    return np.sqrt((p1[0]-p2[0])**2 + (p1[1]-p2[1])**2)"
   ]
  },
  {
   "cell_type": "code",
   "execution_count": 18,
   "metadata": {},
   "outputs": [
    {
     "data": {
      "text/plain": [
       "6"
      ]
     },
     "execution_count": 18,
     "metadata": {},
     "output_type": "execute_result"
    },
    {
     "data": {
      "image/png": "[encoded data removed]",
      "text/plain": [
       "<Figure size 432x288 with 4 Axes>"
      ]
     },
     "metadata": {
      "needs_background": "light"
     },
     "output_type": "display_data"
    }
   ],
   "source": [
    "#use coloring of \n",
    "#clustered with k-means: colors_whole_scene \n",
    "#or dbscan: colors_dbscan\n",
    "\n",
    "f, ax = plt.subplots(4,sharex=True)\n",
    "\n",
    "i = 0\n",
    "axes = plt.gca()\n",
    "axes.set_xlim([380, 430])\n",
    "axes.set_ylim([1100,1250])\n",
    "#axes.axis('equal')\n",
    "ax[i].scatter(annotation_points_whole_scene[i][0], annotation_points_whole_scene[i][1], c=colors_dbscan[i], s=2)\n",
    "vehicle_counters_whole_scene[i]\n",
    "\n",
    "i = 1\n",
    "ax[i].scatter(annotation_points_whole_scene[i][0], annotation_points_whole_scene[i][1], c=colors_dbscan[i], s=2)\n",
    "vehicle_counters_whole_scene[i]\n",
    "\n",
    "i = 2\n",
    "ax[i].scatter(annotation_points_whole_scene[i][0], annotation_points_whole_scene[i][1], c=colors_dbscan[i], s=2)\n",
    "vehicle_counters_whole_scene[i]\n",
    "\n",
    "i = 3\n",
    "ax[i].scatter(annotation_points_whole_scene[i][0], annotation_points_whole_scene[i][1], c=colors_dbscan[i], s=2)\n",
    "vehicle_counters_whole_scene[i]"
   ]
  },
  {
   "cell_type": "code",
   "execution_count": 19,
   "metadata": {},
   "outputs": [],
   "source": [
    "# select the mean-positions of dbscan over kmeans as it appears to be more reliable\n",
    "preprocessed_positions = mean_positions_whole_scene_dbscan"
   ]
  },
  {
   "cell_type": "code",
   "execution_count": 21,
   "metadata": {},
   "outputs": [],
   "source": [
    "# algorithm to match 2 sets of points\n",
    "def assignment(estimated_points, measured_points, max_velocity):\n",
    "    '''\n",
    "    inputs are lists of np.array((x,y)) that do not need to match in length\n",
    "    max_velocity in m/s\n",
    "    returns vector of measurements that match the positions of the estimated points\n",
    "    '''\n",
    "    # create cost matrix based on distances of cluster means\n",
    "    cost_matrix = np.zeros((len(estimated_points),len(measured_points)))\n",
    "    for i in range(len(estimated_points)):\n",
    "        for j in range(len(measured_points)):\n",
    "            cost_matrix[i,j] = distance(estimated_points[i],measured_points[j])\n",
    "\n",
    "    row_ind, col_ind = linear_sum_assignment(cost_matrix)\n",
    "\n",
    "    #create pointvector for further iteration (measurements matched to estimated points)\n",
    "    matched_positions = np.zeros((len(estimated_points),2))\n",
    "    for i in range(len(row_ind)):\n",
    "        matched_positions[row_ind[i]] = measured_points[col_ind[i]]\n",
    "\n",
    "    #replace point with 0,0 if velocity higher than 15 (~100km/h)\n",
    "    for i in range(len(matched_positions)):\n",
    "        d = distance(matched_positions[i],estimated_points[i])\n",
    "        if d > max_velocity/2:\n",
    "            matched_positions[i] = np.array((0,0))\n",
    "    return matched_positions"
   ]
  },
  {
   "cell_type": "code",
   "execution_count": 22,
   "metadata": {},
   "outputs": [],
   "source": [
    "def prediction_step(state_vector, covariance_matrix, sigma_v, t):\n",
    "    F = np.array(((1,0,t,0),(0,1,0,t),(0,0,1,0),(0,0,0,1)))\n",
    "    transition_error = np.array((0.5*t**2, 0.5*t**2, t, t))\n",
    "    Q = sigma_v**2*np.dot(transition_error.reshape(-1,1),transition_error.reshape(-1,1).T)\n",
    "    \n",
    "    state_vector_next = np.dot(F, state_vector)\n",
    "    C_next = np.dot(np.dot(F, covariance_matrix), F.T) + Q\n",
    "    return state_vector_next, C_next"
   ]
  },
  {
   "cell_type": "code",
   "execution_count": 23,
   "metadata": {},
   "outputs": [],
   "source": [
    "def measuring_step(state_vector, C, measurement, R):\n",
    "    H = np.array(((1, 0, 0, 0), (0,1,0,0)))\n",
    "    S = np.dot(np.dot(H,C), H.T) + R\n",
    "    K = np.dot(np.dot(C, H.T), np.linalg.inv(S))\n",
    "    C_next = C - np.dot(np.dot(K, S),K.T)\n",
    "    #print(f'state vector: {state_vector} rest: {np.dot(K,np.array(measurement) - np.dot(H, state_vector))}')\n",
    "    state_vector_next = state_vector + np.dot(K,np.array(measurement) - np.dot(H, state_vector))\n",
    "    return state_vector_next, C_next"
   ]
  },
  {
   "cell_type": "code",
   "execution_count": 26,
   "metadata": {},
   "outputs": [],
   "source": [
    "def run_filter_single_step(C,sigma_v,R, state_vector, measurement):\n",
    "    state_vector, C = measuring_step(state_vector, C, measurement, R)\n",
    "    state_vector, C = prediction_step(state_vector, C, sigma_v, t = 0.5)\n",
    "    \n",
    "    #state_vector, C = measuring_step(state_vector, C, measurement[:2], R)\n",
    "    #state_vector, C = prediction_step(state_vector, C, sigma_v, t = measurement[2])\n",
    "    return state_vector, C"
   ]
  },
  {
   "cell_type": "code",
   "execution_count": 25,
   "metadata": {},
   "outputs": [],
   "source": [
    "from random import randint\n",
    "colors = []\n",
    "\n",
    "for i in range(7):\n",
    "    colors.append('#%06X' % randint(0, 0xFFFFFF))"
   ]
  },
  {
   "cell_type": "code",
   "execution_count": 27,
   "metadata": {},
   "outputs": [
    {
     "data": {
      "image/png": "[encoded data removed]",
      "text/plain": [
       "<Figure size 432x288 with 1 Axes>"
      ]
     },
     "metadata": {
      "needs_background": "light"
     },
     "output_type": "display_data"
    }
   ],
   "source": [
    "## initialize Covariance Matrix and state vector\n",
    "# needs preprocessed_positions which are centers of clusters\n",
    "max_velocity = 20 #m/s\n",
    "\n",
    "sigma_v= 0.01\n",
    "r = 1\n",
    "R = np.array(((r,0),(0,r)))\n",
    "\n",
    "estimated_states = []\n",
    "covariance_matrices = []\n",
    "for i in range(len(preprocessed_positions[0])):\n",
    "    initial_position = preprocessed_positions[0][i]#accepted_initial_positions[0]\n",
    "    initial_velocity = np.zeros(2)#accepted_initial_velocities[0]\n",
    "    state_vector = np.append(initial_position,initial_velocity)\n",
    "\n",
    "    C = 1*np.eye(4)\n",
    "    C[2,2] = 10\n",
    "    C[3,3] = 10\n",
    "\n",
    "    estimated_state, C = prediction_step(state_vector, C, sigma_v, t = 0.5)\n",
    "    \n",
    "    estimated_states.append(estimated_state)\n",
    "    covariance_matrices.append(C)\n",
    "#iterate over all measurements\n",
    "ims = []\n",
    "fig = plt.figure()\n",
    "ax = fig.add_subplot(111)\n",
    "N = 38\n",
    "\n",
    "for n in range(N):#len(preprocessed_positions)-1\n",
    "    #match points\n",
    "    estimated_points = np.array(estimated_states)[:,:2]#preprocessed_positions[n]\n",
    "    measured_points = preprocessed_positions[n+1]\n",
    "\n",
    "    matched_positions = assignment(estimated_points, measured_points, max_velocity)\n",
    "    #kalman filter\n",
    "    for i in range(len(matched_positions)):\n",
    "        C = covariance_matrices[i]\n",
    "        measurement = matched_positions[i]\n",
    "        estimated_state = estimated_states[i]\n",
    "        if measurement[0] == 0:\n",
    "            estimated_state = np.array((0,0,0,0))\n",
    "            continue\n",
    "        state_vector, C = run_filter_single_step(C,sigma_v,R, estimated_state, measurement)\n",
    "\n",
    "        covariance_matrices[i] = C\n",
    "        estimated_states[i] = state_vector\n",
    "    plotlist = []\n",
    "    for i,point in enumerate(estimated_states):\n",
    "        #print(point[3])\n",
    "        if point[3] != 0:\n",
    "            plotlist.append(plt.scatter(point[0], point[1], c = colors[i]).findobj()[0])\n",
    "#ax[n].\n",
    "    ims.append(plotlist)\n",
    "ani = mpl.animation.ArtistAnimation(fig, ims, repeat=False)\n",
    "ani.save('mult_t_tracking.gif', writer='pillow')"
   ]
  },
  {
   "cell_type": "markdown",
   "metadata": {},
   "source": [
    "# some plots"
   ]
  },
  {
   "cell_type": "code",
   "execution_count": 19,
   "metadata": {},
   "outputs": [
    {
     "data": {
      "image/png": "[encoded data removed]",
      "text/plain": [
       "<Figure size 432x288 with 1 Axes>"
      ]
     },
     "metadata": {
      "needs_background": "light"
     },
     "output_type": "display_data"
    }
   ],
   "source": [
    "axes = plt.gca()\n",
    "axes.set_xlim([380, 430])\n",
    "axes.set_ylim([1100,1250])\n",
    "for i in range(len(row_ind)):\n",
    "    x = [estimated_points[i][0],matched_positions[i][0]]\n",
    "    y = [estimated_points[i][1],matched_positions[i][1]]\n",
    "    plt.plot(x,y)"
   ]
  },
  {
   "cell_type": "code",
   "execution_count": null,
   "metadata": {},
   "outputs": [],
   "source": []
  },
  {
   "cell_type": "code",
   "execution_count": 20,
   "metadata": {},
   "outputs": [
    {
     "ename": "NameError",
     "evalue": "name 'accepted_initial_positions' is not defined",
     "output_type": "error",
     "traceback": [
      "\u001b[0;31m---------------------------------------------------------------------------\u001b[0m",
      "\u001b[0;31mNameError\u001b[0m                                 Traceback (most recent call last)",
      "\u001b[0;32m<ipython-input-20-eae7233c2d74>\u001b[0m in \u001b[0;36m<module>\u001b[0;34m\u001b[0m\n\u001b[1;32m      7\u001b[0m     \u001b[0;31m## throw out everything with velocity > 100km/h\u001b[0m\u001b[0;34m\u001b[0m\u001b[0;34m\u001b[0m\u001b[0;34m\u001b[0m\u001b[0m\n\u001b[1;32m      8\u001b[0m     \u001b[0;32mif\u001b[0m \u001b[0mdistance\u001b[0m\u001b[0;34m(\u001b[0m\u001b[0mp1\u001b[0m\u001b[0;34m,\u001b[0m\u001b[0mp2\u001b[0m\u001b[0;34m)\u001b[0m \u001b[0;34m<\u001b[0m \u001b[0;36m15\u001b[0m\u001b[0;34m:\u001b[0m\u001b[0;34m\u001b[0m\u001b[0;34m\u001b[0m\u001b[0m\n\u001b[0;32m----> 9\u001b[0;31m         \u001b[0maccepted_initial_positions\u001b[0m\u001b[0;34m.\u001b[0m\u001b[0mappend\u001b[0m\u001b[0;34m(\u001b[0m\u001b[0mp2\u001b[0m\u001b[0;34m)\u001b[0m\u001b[0;34m\u001b[0m\u001b[0;34m\u001b[0m\u001b[0m\n\u001b[0m\u001b[1;32m     10\u001b[0m         \u001b[0maccepted_initial_velocities\u001b[0m\u001b[0;34m.\u001b[0m\u001b[0mappend\u001b[0m\u001b[0;34m(\u001b[0m\u001b[0;34m(\u001b[0m\u001b[0mp2\u001b[0m\u001b[0;34m-\u001b[0m\u001b[0mp1\u001b[0m\u001b[0;34m)\u001b[0m\u001b[0;34m/\u001b[0m\u001b[0;36m2\u001b[0m\u001b[0;34m)\u001b[0m\u001b[0;34m\u001b[0m\u001b[0;34m\u001b[0m\u001b[0m\n",
      "\u001b[0;31mNameError\u001b[0m: name 'accepted_initial_positions' is not defined"
     ]
    }
   ],
   "source": [
    "for i in range(len(row_ind)):\n",
    "    x = [preprocessed_positions[n][row_ind[i]][0],preprocessed_positions[n+1][col_ind[i]][0]]\n",
    "    y = [preprocessed_positions[n][row_ind[i]][1],preprocessed_positions[n+1][col_ind[i]][1]]\n",
    "    \n",
    "    p1 = np.array([x[0], y[0]])\n",
    "    p2 = np.array([x[1], y[1]])\n",
    "    ## throw out everything with velocity > 100km/h\n",
    "    if distance(p1,p2) < 15:\n",
    "        accepted_initial_positions.append(p2)\n",
    "        accepted_initial_velocities.append((p2-p1)/2)"
   ]
  },
  {
   "cell_type": "code",
   "execution_count": null,
   "metadata": {},
   "outputs": [],
   "source": [
    "print(f'error:{squared_distance(estimated_positions, cleaned_measurements)}')\n",
    "\n",
    "fig = plt.figure()\n",
    "ax = fig.add_subplot(111)\n",
    "plt.plot([pos[0] for pos in estimated_positions], [pos[1] for pos in estimated_positions])\n",
    "plt.plot([pos[0] for pos in cleaned_measurements], [pos[1] for pos in cleaned_measurements])\n",
    "ax.axis('equal')\n",
    "plt.savefig('small_sigma_v.pdf')"
   ]
  },
  {
   "cell_type": "code",
   "execution_count": null,
   "metadata": {},
   "outputs": [],
   "source": [
    "#preprocessed_positions = mean_positions_whole_scene\n",
    "preprocessed_positions = mean_positions_whole_scene_dbscan#np.array()\n",
    "n = 0\n",
    "cost_matrix = np.zeros((len(preprocessed_positions[n]),len(preprocessed_positions[n+1])))\n",
    "    for i in range(len(preprocessed_positions[n])):\n",
    "        for j in range(len(preprocessed_positions[n+1])):\n",
    "            cost_matrix[i,j] = distance(preprocessed_positions[n][i],preprocessed_positions[n+1][j])\n",
    "# algorithm to match 2 sets of points\n",
    "row_ind, col_ind = linear_sum_assignment(cost_matrix)\n",
    "## get initial velocities and positions\n",
    "\n",
    "accepted_initial_positions = []\n",
    "accepted_initial_velocities = []\n",
    "for i in range(len(row_ind)):\n",
    "    x = [preprocessed_positions[n][row_ind[i]][0],preprocessed_positions[n+1][col_ind[i]][0]]\n",
    "    y = [preprocessed_positions[n][row_ind[i]][1],preprocessed_positions[n+1][col_ind[i]][1]]\n",
    "    \n",
    "    p1 = np.array([x[0], y[0]])\n",
    "    p2 = np.array([x[1], y[1]])\n",
    "    ## throw out everything with velocity > 100km/h\n",
    "    if distance(p1,p2) < 15:\n",
    "        accepted_initial_positions.append(p2)\n",
    "        accepted_initial_velocities.append((p2-p1)/2)\n",
    "    #print(f'p1: {p1}, p2: {p2}, distance: {distance(p1,p2)}')\n",
    "    axes = plt.gca()\n",
    "    axes.set_xlim([380, 430])\n",
    "    axes.set_ylim([1100,1250])\n",
    "    plt.plot(x,y)"
   ]
  },
  {
   "cell_type": "code",
   "execution_count": null,
   "metadata": {},
   "outputs": [],
   "source": [
    "i = 2\n",
    "x = np.swapaxes(mean_positions_whole_scene_dbscan[i],0,1)[0]\n",
    "y = np.swapaxes(mean_positions_whole_scene_dbscan[i],0,1)[1]\n",
    "axes = plt.gca()\n",
    "axes.set_xlim([380, 430])\n",
    "axes.set_ylim([1100,1250])\n",
    "plt.scatter(x,y, c='red', s=5)"
   ]
  },
  {
   "cell_type": "code",
   "execution_count": 135,
   "metadata": {},
   "outputs": [
    {
     "data": {
      "text/plain": [
       "<matplotlib.collections.PathCollection at 0x7f5d1687a750>"
      ]
     },
     "execution_count": 135,
     "metadata": {},
     "output_type": "execute_result"
    },
    {
     "data": {
      "image/png": "[encoded data removed]",
      "text/plain": [
       "<Figure size 432x288 with 1 Axes>"
      ]
     },
     "metadata": {
      "needs_background": "light"
     },
     "output_type": "display_data"
    }
   ],
   "source": [
    "i = 8\n",
    "x = np.swapaxes(mean_positions_whole_scene[i],0,1)[0]\n",
    "y = np.swapaxes(mean_positions_whole_scene[i],0,1)[1]\n",
    "axes = plt.gca()\n",
    "axes.set_xlim([380, 430])\n",
    "axes.set_ylim([1100,1250])\n",
    "plt.scatter(x,y, c='red', s=5)"
   ]
  },
  {
   "cell_type": "code",
   "execution_count": null,
   "metadata": {},
   "outputs": [],
   "source": []
  },
  {
   "cell_type": "code",
   "execution_count": 131,
   "metadata": {},
   "outputs": [
    {
     "ename": "ValueError",
     "evalue": "'c' argument has 1222 elements, which is inconsistent with 'x' and 'y' with size 2035.",
     "output_type": "error",
     "traceback": [
      "\u001b[0;31m---------------------------------------------------------------------------\u001b[0m",
      "\u001b[0;31mValueError\u001b[0m                                Traceback (most recent call last)",
      "\u001b[0;32m~/anaconda3/envs/datafusion/lib/python3.7/site-packages/matplotlib/axes/_axes.py\u001b[0m in \u001b[0;36m_parse_scatter_color_args\u001b[0;34m(c, edgecolors, kwargs, xsize, get_next_color_func)\u001b[0m\n\u001b[1;32m   4290\u001b[0m             \u001b[0;32mtry\u001b[0m\u001b[0;34m:\u001b[0m  \u001b[0;31m# Is 'c' acceptable as PathCollection facecolors?\u001b[0m\u001b[0;34m\u001b[0m\u001b[0;34m\u001b[0m\u001b[0m\n\u001b[0;32m-> 4291\u001b[0;31m                 \u001b[0mcolors\u001b[0m \u001b[0;34m=\u001b[0m \u001b[0mmcolors\u001b[0m\u001b[0;34m.\u001b[0m\u001b[0mto_rgba_array\u001b[0m\u001b[0;34m(\u001b[0m\u001b[0mc\u001b[0m\u001b[0;34m)\u001b[0m\u001b[0;34m\u001b[0m\u001b[0;34m\u001b[0m\u001b[0m\n\u001b[0m\u001b[1;32m   4292\u001b[0m             \u001b[0;32mexcept\u001b[0m \u001b[0;34m(\u001b[0m\u001b[0mTypeError\u001b[0m\u001b[0;34m,\u001b[0m \u001b[0mValueError\u001b[0m\u001b[0;34m)\u001b[0m \u001b[0;32mas\u001b[0m \u001b[0merr\u001b[0m\u001b[0;34m:\u001b[0m\u001b[0;34m\u001b[0m\u001b[0;34m\u001b[0m\u001b[0m\n",
      "\u001b[0;32m~/anaconda3/envs/datafusion/lib/python3.7/site-packages/matplotlib/colors.py\u001b[0m in \u001b[0;36mto_rgba_array\u001b[0;34m(c, alpha)\u001b[0m\n\u001b[1;32m    340\u001b[0m     \u001b[0;32melse\u001b[0m\u001b[0;34m:\u001b[0m\u001b[0;34m\u001b[0m\u001b[0;34m\u001b[0m\u001b[0m\n\u001b[0;32m--> 341\u001b[0;31m         \u001b[0;32mreturn\u001b[0m \u001b[0mnp\u001b[0m\u001b[0;34m.\u001b[0m\u001b[0marray\u001b[0m\u001b[0;34m(\u001b[0m\u001b[0;34m[\u001b[0m\u001b[0mto_rgba\u001b[0m\u001b[0;34m(\u001b[0m\u001b[0mcc\u001b[0m\u001b[0;34m,\u001b[0m \u001b[0malpha\u001b[0m\u001b[0;34m)\u001b[0m \u001b[0;32mfor\u001b[0m \u001b[0mcc\u001b[0m \u001b[0;32min\u001b[0m \u001b[0mc\u001b[0m\u001b[0;34m]\u001b[0m\u001b[0;34m)\u001b[0m\u001b[0;34m\u001b[0m\u001b[0;34m\u001b[0m\u001b[0m\n\u001b[0m\u001b[1;32m    342\u001b[0m \u001b[0;34m\u001b[0m\u001b[0m\n",
      "\u001b[0;32m~/anaconda3/envs/datafusion/lib/python3.7/site-packages/matplotlib/colors.py\u001b[0m in \u001b[0;36m<listcomp>\u001b[0;34m(.0)\u001b[0m\n\u001b[1;32m    340\u001b[0m     \u001b[0;32melse\u001b[0m\u001b[0;34m:\u001b[0m\u001b[0;34m\u001b[0m\u001b[0;34m\u001b[0m\u001b[0m\n\u001b[0;32m--> 341\u001b[0;31m         \u001b[0;32mreturn\u001b[0m \u001b[0mnp\u001b[0m\u001b[0;34m.\u001b[0m\u001b[0marray\u001b[0m\u001b[0;34m(\u001b[0m\u001b[0;34m[\u001b[0m\u001b[0mto_rgba\u001b[0m\u001b[0;34m(\u001b[0m\u001b[0mcc\u001b[0m\u001b[0;34m,\u001b[0m \u001b[0malpha\u001b[0m\u001b[0;34m)\u001b[0m \u001b[0;32mfor\u001b[0m \u001b[0mcc\u001b[0m \u001b[0;32min\u001b[0m \u001b[0mc\u001b[0m\u001b[0;34m]\u001b[0m\u001b[0;34m)\u001b[0m\u001b[0;34m\u001b[0m\u001b[0;34m\u001b[0m\u001b[0m\n\u001b[0m\u001b[1;32m    342\u001b[0m \u001b[0;34m\u001b[0m\u001b[0m\n",
      "\u001b[0;32m~/anaconda3/envs/datafusion/lib/python3.7/site-packages/matplotlib/colors.py\u001b[0m in \u001b[0;36mto_rgba\u001b[0;34m(c, alpha)\u001b[0m\n\u001b[1;32m    188\u001b[0m     \u001b[0;32mif\u001b[0m \u001b[0mrgba\u001b[0m \u001b[0;32mis\u001b[0m \u001b[0;32mNone\u001b[0m\u001b[0;34m:\u001b[0m  \u001b[0;31m# Suppress exception chaining of cache lookup failure.\u001b[0m\u001b[0;34m\u001b[0m\u001b[0;34m\u001b[0m\u001b[0m\n\u001b[0;32m--> 189\u001b[0;31m         \u001b[0mrgba\u001b[0m \u001b[0;34m=\u001b[0m \u001b[0m_to_rgba_no_colorcycle\u001b[0m\u001b[0;34m(\u001b[0m\u001b[0mc\u001b[0m\u001b[0;34m,\u001b[0m \u001b[0malpha\u001b[0m\u001b[0;34m)\u001b[0m\u001b[0;34m\u001b[0m\u001b[0;34m\u001b[0m\u001b[0m\n\u001b[0m\u001b[1;32m    190\u001b[0m         \u001b[0;32mtry\u001b[0m\u001b[0;34m:\u001b[0m\u001b[0;34m\u001b[0m\u001b[0;34m\u001b[0m\u001b[0m\n",
      "\u001b[0;32m~/anaconda3/envs/datafusion/lib/python3.7/site-packages/matplotlib/colors.py\u001b[0m in \u001b[0;36m_to_rgba_no_colorcycle\u001b[0;34m(c, alpha)\u001b[0m\n\u001b[1;32m    262\u001b[0m     \u001b[0;32mif\u001b[0m \u001b[0;32mnot\u001b[0m \u001b[0mnp\u001b[0m\u001b[0;34m.\u001b[0m\u001b[0miterable\u001b[0m\u001b[0;34m(\u001b[0m\u001b[0mc\u001b[0m\u001b[0;34m)\u001b[0m\u001b[0;34m:\u001b[0m\u001b[0;34m\u001b[0m\u001b[0;34m\u001b[0m\u001b[0m\n\u001b[0;32m--> 263\u001b[0;31m         \u001b[0;32mraise\u001b[0m \u001b[0mValueError\u001b[0m\u001b[0;34m(\u001b[0m\u001b[0;34mf\"Invalid RGBA argument: {orig_c!r}\"\u001b[0m\u001b[0;34m)\u001b[0m\u001b[0;34m\u001b[0m\u001b[0;34m\u001b[0m\u001b[0m\n\u001b[0m\u001b[1;32m    264\u001b[0m     \u001b[0;32mif\u001b[0m \u001b[0mlen\u001b[0m\u001b[0;34m(\u001b[0m\u001b[0mc\u001b[0m\u001b[0;34m)\u001b[0m \u001b[0;32mnot\u001b[0m \u001b[0;32min\u001b[0m \u001b[0;34m[\u001b[0m\u001b[0;36m3\u001b[0m\u001b[0;34m,\u001b[0m \u001b[0;36m4\u001b[0m\u001b[0;34m]\u001b[0m\u001b[0;34m:\u001b[0m\u001b[0;34m\u001b[0m\u001b[0;34m\u001b[0m\u001b[0m\n",
      "\u001b[0;31mValueError\u001b[0m: Invalid RGBA argument: 0.0",
      "\nThe above exception was the direct cause of the following exception:\n",
      "\u001b[0;31mValueError\u001b[0m                                Traceback (most recent call last)",
      "\u001b[0;32m<ipython-input-131-b8f939d930c5>\u001b[0m in \u001b[0;36m<module>\u001b[0;34m\u001b[0m\n\u001b[0;32m----> 1\u001b[0;31m \u001b[0mplt\u001b[0m\u001b[0;34m.\u001b[0m\u001b[0mscatter\u001b[0m\u001b[0;34m(\u001b[0m\u001b[0mannotation_points_whole_scene\u001b[0m\u001b[0;34m[\u001b[0m\u001b[0mi\u001b[0m\u001b[0;34m]\u001b[0m\u001b[0;34m[\u001b[0m\u001b[0;36m0\u001b[0m\u001b[0;34m]\u001b[0m\u001b[0;34m,\u001b[0m \u001b[0mannotation_points_whole_scene\u001b[0m\u001b[0;34m[\u001b[0m\u001b[0mi\u001b[0m\u001b[0;34m]\u001b[0m\u001b[0;34m[\u001b[0m\u001b[0;36m1\u001b[0m\u001b[0;34m]\u001b[0m\u001b[0;34m,\u001b[0m \u001b[0ms\u001b[0m\u001b[0;34m=\u001b[0m\u001b[0;36m0.1\u001b[0m\u001b[0;34m,\u001b[0m\u001b[0mc\u001b[0m\u001b[0;34m=\u001b[0m\u001b[0mdb\u001b[0m\u001b[0;34m.\u001b[0m\u001b[0mlabels_\u001b[0m\u001b[0;34m)\u001b[0m\u001b[0;34m\u001b[0m\u001b[0;34m\u001b[0m\u001b[0m\n\u001b[0m",
      "\u001b[0;32m~/anaconda3/envs/datafusion/lib/python3.7/site-packages/matplotlib/pyplot.py\u001b[0m in \u001b[0;36mscatter\u001b[0;34m(x, y, s, c, marker, cmap, norm, vmin, vmax, alpha, linewidths, verts, edgecolors, plotnonfinite, data, **kwargs)\u001b[0m\n\u001b[1;32m   2877\u001b[0m         \u001b[0mverts\u001b[0m\u001b[0;34m=\u001b[0m\u001b[0mverts\u001b[0m\u001b[0;34m,\u001b[0m \u001b[0medgecolors\u001b[0m\u001b[0;34m=\u001b[0m\u001b[0medgecolors\u001b[0m\u001b[0;34m,\u001b[0m\u001b[0;34m\u001b[0m\u001b[0;34m\u001b[0m\u001b[0m\n\u001b[1;32m   2878\u001b[0m         \u001b[0mplotnonfinite\u001b[0m\u001b[0;34m=\u001b[0m\u001b[0mplotnonfinite\u001b[0m\u001b[0;34m,\u001b[0m\u001b[0;34m\u001b[0m\u001b[0;34m\u001b[0m\u001b[0m\n\u001b[0;32m-> 2879\u001b[0;31m         **({\"data\": data} if data is not None else {}), **kwargs)\n\u001b[0m\u001b[1;32m   2880\u001b[0m     \u001b[0msci\u001b[0m\u001b[0;34m(\u001b[0m\u001b[0m__ret\u001b[0m\u001b[0;34m)\u001b[0m\u001b[0;34m\u001b[0m\u001b[0;34m\u001b[0m\u001b[0m\n\u001b[1;32m   2881\u001b[0m     \u001b[0;32mreturn\u001b[0m \u001b[0m__ret\u001b[0m\u001b[0;34m\u001b[0m\u001b[0;34m\u001b[0m\u001b[0m\n",
      "\u001b[0;32m~/anaconda3/envs/datafusion/lib/python3.7/site-packages/matplotlib/__init__.py\u001b[0m in \u001b[0;36minner\u001b[0;34m(ax, data, *args, **kwargs)\u001b[0m\n\u001b[1;32m   1436\u001b[0m     \u001b[0;32mdef\u001b[0m \u001b[0minner\u001b[0m\u001b[0;34m(\u001b[0m\u001b[0max\u001b[0m\u001b[0;34m,\u001b[0m \u001b[0;34m*\u001b[0m\u001b[0margs\u001b[0m\u001b[0;34m,\u001b[0m \u001b[0mdata\u001b[0m\u001b[0;34m=\u001b[0m\u001b[0;32mNone\u001b[0m\u001b[0;34m,\u001b[0m \u001b[0;34m**\u001b[0m\u001b[0mkwargs\u001b[0m\u001b[0;34m)\u001b[0m\u001b[0;34m:\u001b[0m\u001b[0;34m\u001b[0m\u001b[0;34m\u001b[0m\u001b[0m\n\u001b[1;32m   1437\u001b[0m         \u001b[0;32mif\u001b[0m \u001b[0mdata\u001b[0m \u001b[0;32mis\u001b[0m \u001b[0;32mNone\u001b[0m\u001b[0;34m:\u001b[0m\u001b[0;34m\u001b[0m\u001b[0;34m\u001b[0m\u001b[0m\n\u001b[0;32m-> 1438\u001b[0;31m             \u001b[0;32mreturn\u001b[0m \u001b[0mfunc\u001b[0m\u001b[0;34m(\u001b[0m\u001b[0max\u001b[0m\u001b[0;34m,\u001b[0m \u001b[0;34m*\u001b[0m\u001b[0mmap\u001b[0m\u001b[0;34m(\u001b[0m\u001b[0msanitize_sequence\u001b[0m\u001b[0;34m,\u001b[0m \u001b[0margs\u001b[0m\u001b[0;34m)\u001b[0m\u001b[0;34m,\u001b[0m \u001b[0;34m**\u001b[0m\u001b[0mkwargs\u001b[0m\u001b[0;34m)\u001b[0m\u001b[0;34m\u001b[0m\u001b[0;34m\u001b[0m\u001b[0m\n\u001b[0m\u001b[1;32m   1439\u001b[0m \u001b[0;34m\u001b[0m\u001b[0m\n\u001b[1;32m   1440\u001b[0m         \u001b[0mbound\u001b[0m \u001b[0;34m=\u001b[0m \u001b[0mnew_sig\u001b[0m\u001b[0;34m.\u001b[0m\u001b[0mbind\u001b[0m\u001b[0;34m(\u001b[0m\u001b[0max\u001b[0m\u001b[0;34m,\u001b[0m \u001b[0;34m*\u001b[0m\u001b[0margs\u001b[0m\u001b[0;34m,\u001b[0m \u001b[0;34m**\u001b[0m\u001b[0mkwargs\u001b[0m\u001b[0;34m)\u001b[0m\u001b[0;34m\u001b[0m\u001b[0;34m\u001b[0m\u001b[0m\n",
      "\u001b[0;32m~/anaconda3/envs/datafusion/lib/python3.7/site-packages/matplotlib/cbook/deprecation.py\u001b[0m in \u001b[0;36mwrapper\u001b[0;34m(*inner_args, **inner_kwargs)\u001b[0m\n\u001b[1;32m    409\u001b[0m                          \u001b[0;32melse\u001b[0m \u001b[0mdeprecation_addendum\u001b[0m\u001b[0;34m,\u001b[0m\u001b[0;34m\u001b[0m\u001b[0;34m\u001b[0m\u001b[0m\n\u001b[1;32m    410\u001b[0m                 **kwargs)\n\u001b[0;32m--> 411\u001b[0;31m         \u001b[0;32mreturn\u001b[0m \u001b[0mfunc\u001b[0m\u001b[0;34m(\u001b[0m\u001b[0;34m*\u001b[0m\u001b[0minner_args\u001b[0m\u001b[0;34m,\u001b[0m \u001b[0;34m**\u001b[0m\u001b[0minner_kwargs\u001b[0m\u001b[0;34m)\u001b[0m\u001b[0;34m\u001b[0m\u001b[0;34m\u001b[0m\u001b[0m\n\u001b[0m\u001b[1;32m    412\u001b[0m \u001b[0;34m\u001b[0m\u001b[0m\n\u001b[1;32m    413\u001b[0m     \u001b[0;32mreturn\u001b[0m \u001b[0mwrapper\u001b[0m\u001b[0;34m\u001b[0m\u001b[0;34m\u001b[0m\u001b[0m\n",
      "\u001b[0;32m~/anaconda3/envs/datafusion/lib/python3.7/site-packages/matplotlib/axes/_axes.py\u001b[0m in \u001b[0;36mscatter\u001b[0;34m(self, x, y, s, c, marker, cmap, norm, vmin, vmax, alpha, linewidths, verts, edgecolors, plotnonfinite, **kwargs)\u001b[0m\n\u001b[1;32m   4451\u001b[0m             self._parse_scatter_color_args(\n\u001b[1;32m   4452\u001b[0m                 \u001b[0mc\u001b[0m\u001b[0;34m,\u001b[0m \u001b[0medgecolors\u001b[0m\u001b[0;34m,\u001b[0m \u001b[0mkwargs\u001b[0m\u001b[0;34m,\u001b[0m \u001b[0mx\u001b[0m\u001b[0;34m.\u001b[0m\u001b[0msize\u001b[0m\u001b[0;34m,\u001b[0m\u001b[0;34m\u001b[0m\u001b[0;34m\u001b[0m\u001b[0m\n\u001b[0;32m-> 4453\u001b[0;31m                 get_next_color_func=self._get_patches_for_fill.get_next_color)\n\u001b[0m\u001b[1;32m   4454\u001b[0m \u001b[0;34m\u001b[0m\u001b[0m\n\u001b[1;32m   4455\u001b[0m         \u001b[0;32mif\u001b[0m \u001b[0mplotnonfinite\u001b[0m \u001b[0;32mand\u001b[0m \u001b[0mcolors\u001b[0m \u001b[0;32mis\u001b[0m \u001b[0;32mNone\u001b[0m\u001b[0;34m:\u001b[0m\u001b[0;34m\u001b[0m\u001b[0;34m\u001b[0m\u001b[0m\n",
      "\u001b[0;32m~/anaconda3/envs/datafusion/lib/python3.7/site-packages/matplotlib/axes/_axes.py\u001b[0m in \u001b[0;36m_parse_scatter_color_args\u001b[0;34m(c, edgecolors, kwargs, xsize, get_next_color_func)\u001b[0m\n\u001b[1;32m   4295\u001b[0m                 \u001b[0;32melse\u001b[0m\u001b[0;34m:\u001b[0m\u001b[0;34m\u001b[0m\u001b[0;34m\u001b[0m\u001b[0m\n\u001b[1;32m   4296\u001b[0m                     \u001b[0;32mif\u001b[0m \u001b[0;32mnot\u001b[0m \u001b[0mvalid_shape\u001b[0m\u001b[0;34m:\u001b[0m\u001b[0;34m\u001b[0m\u001b[0;34m\u001b[0m\u001b[0m\n\u001b[0;32m-> 4297\u001b[0;31m                         \u001b[0;32mraise\u001b[0m \u001b[0minvalid_shape_exception\u001b[0m\u001b[0;34m(\u001b[0m\u001b[0mc\u001b[0m\u001b[0;34m.\u001b[0m\u001b[0msize\u001b[0m\u001b[0;34m,\u001b[0m \u001b[0mxsize\u001b[0m\u001b[0;34m)\u001b[0m \u001b[0;32mfrom\u001b[0m \u001b[0merr\u001b[0m\u001b[0;34m\u001b[0m\u001b[0;34m\u001b[0m\u001b[0m\n\u001b[0m\u001b[1;32m   4298\u001b[0m                     \u001b[0;31m# Both the mapping *and* the RGBA conversion failed: pretty\u001b[0m\u001b[0;34m\u001b[0m\u001b[0;34m\u001b[0m\u001b[0;34m\u001b[0m\u001b[0m\n\u001b[1;32m   4299\u001b[0m                     \u001b[0;31m# severe failure => one may appreciate a verbose feedback.\u001b[0m\u001b[0;34m\u001b[0m\u001b[0;34m\u001b[0m\u001b[0;34m\u001b[0m\u001b[0m\n",
      "\u001b[0;31mValueError\u001b[0m: 'c' argument has 1222 elements, which is inconsistent with 'x' and 'y' with size 2035."
     ]
    },
    {
     "data": {
      "image/png": "[encoded data removed]",
      "text/plain": [
       "<Figure size 432x288 with 1 Axes>"
      ]
     },
     "metadata": {
      "needs_background": "light"
     },
     "output_type": "display_data"
    }
   ],
   "source": [
    "plt.scatter(annotation_points_whole_scene[i][0], annotation_points_whole_scene[i][1], s=0.1,c=db.labels_)"
   ]
  },
  {
   "cell_type": "code",
   "execution_count": null,
   "metadata": {},
   "outputs": [],
   "source": [
    "#k-means with clutter\n",
    "a = sklearn.cluster.k_means(np.swapaxes(pc.points[:2],0,1), len(first_sample_from_scene['anns']))\n",
    "\n",
    "plt.scatter(pc.points[0], pc.points[1], s=0.1,c=a[1])"
   ]
  },
  {
   "cell_type": "code",
   "execution_count": null,
   "metadata": {},
   "outputs": [],
   "source": []
  }
 ],
 "metadata": {
  "kernelspec": {
   "display_name": "Python 3",
   "language": "python",
   "name": "python3"
  },
  "language_info": {
   "codemirror_mode": {
    "name": "ipython",
    "version": 3
   },
   "file_extension": ".py",
   "mimetype": "text/x-python",
   "name": "python",
   "nbconvert_exporter": "python",
   "pygments_lexer": "ipython3",
   "version": "3.7.7"
  }
 },
 "nbformat": 4,
 "nbformat_minor": 4
}
